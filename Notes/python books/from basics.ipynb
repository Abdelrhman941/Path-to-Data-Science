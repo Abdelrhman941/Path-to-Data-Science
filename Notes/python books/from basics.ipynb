{
 "cells": [
  {
   "cell_type": "markdown",
   "id": "dfa33bf4-1f9f-41d4-823e-19b720ab1369",
   "metadata": {},
   "source": [
    "<h1 align=\"center\">🔹🔸 <strong>Try & Except in Python</strong> 🔸🔹</h1>  \n",
    "\n",
    "🚀 **Handling Errors Like a Pro!**  \n",
    "\n",
    "Python provides a structured way to handle errors using `try-except-finally`. This prevents crashes and allows smooth program execution.  \n",
    "\n",
    "---\n",
    "\n",
    "### 🛠️ **Basic Syntax**  \n",
    "\n",
    "```python\n",
    "try:\n",
    "    # 🔍 Code that may raise an error\n",
    "    ...\n",
    "except ExceptionType:\n",
    "    # ⚠️ Handle the exception\n",
    "    ...\n",
    "finally:  # (Optional)\n",
    "    # ✅ Code that will always execute\n",
    "    ...\n",
    "```\n",
    "\n",
    "---\n",
    "\n",
    "### ⚡ **Common Exception Types**\n",
    "| **Exception**          | **Description** |\n",
    "|------------------------|----------------|\n",
    "| `IOError`             | Raised when an I/O operation fails |\n",
    "| `ValueError`          | Invalid value given to a function |\n",
    "| `ZeroDivisionError`   | Division by zero error |\n",
    "| `ImportError`         | Module cannot be imported |\n",
    "| `KeyboardInterrupt`   | User interrupts the program (Ctrl + C) |\n",
    "| `EOFError`            | End of input reached unexpectedly |\n",
    "\n",
    "---\n",
    "\n",
    "🎯 **Pro Tip:** Always use specific exceptions instead of a general `except:` to improve debugging! 🔥  "
   ]
  },
  {
   "cell_type": "code",
   "execution_count": 5,
   "id": "9cde7386",
   "metadata": {},
   "outputs": [
    {
     "name": "stdout",
     "output_type": "stream",
     "text": [
      "50\n",
      "end\n"
     ]
    }
   ],
   "source": [
    "while True :\n",
    "    try :\n",
    "        n = input(\"Number?\")\n",
    "        n = int(n)\n",
    "        print(n*5)\n",
    "        break\n",
    "    except :\n",
    "        print (\"wrong format\")\n",
    "        break\n",
    "    finally :\n",
    "        print (\"end\")"
   ]
  },
  {
   "cell_type": "code",
   "execution_count": 8,
   "id": "dd2a890d",
   "metadata": {},
   "outputs": [
    {
     "name": "stdout",
     "output_type": "stream",
     "text": [
      "⚠️ Error message : division by zero\n"
     ]
    }
   ],
   "source": [
    "z = input ('number ? ')\n",
    "try:\n",
    "    x = 1 / int(z)\n",
    "    print(x)\n",
    "except ZeroDivisionError as err:\n",
    "    print(\"⚠️ Error message :\", err)"
   ]
  },
  {
   "cell_type": "markdown",
   "id": "f1eb994f",
   "metadata": {},
   "source": [
    "<h1 align=\"center\">👉 <strong>zip and Argument Unpacking</strong> 👈</h1>"
   ]
  },
  {
   "cell_type": "code",
   "execution_count": 1,
   "id": "ef6f2132-3a53-446f-8a96-8b59615fa4a1",
   "metadata": {},
   "outputs": [
    {
     "name": "stdout",
     "output_type": "stream",
     "text": [
      "1\n",
      "2\n",
      "3\n",
      "------------------\n",
      "('a', 'b', 'c')\n",
      "(1, 2, 3)\n",
      "------------------\n",
      "b\n",
      "2\n"
     ]
    }
   ],
   "source": [
    "list1 = ['a', 'b', 'c']\n",
    "list2 = [1, 2, 3]\n",
    "zipped_list = zip(list1, list2)  # Create the zipped list\n",
    "\n",
    "for item in zipped_list:\n",
    "    print(item[1])  \n",
    "\n",
    "print(\"------------------\")\n",
    "pairs = [('a', 1), ('b', 2), ('c', 3)]\n",
    "letters, numbers = zip(*pairs)\n",
    "print(letters)\n",
    "print(numbers)\n",
    "print(\"------------------\")\n",
    "zipped_list2 = zip(('a', 1), ('b', 2), ('c', 3))\n",
    "for item in zipped_list2:\n",
    "    print(item[1])  "
   ]
  },
  {
   "cell_type": "code",
   "execution_count": 2,
   "id": "cd9d9c61-d72c-4840-8635-f1a51cc9737e",
   "metadata": {},
   "outputs": [
    {
     "name": "stdout",
     "output_type": "stream",
     "text": [
      "3\n",
      "3\n"
     ]
    }
   ],
   "source": [
    "# Argument Unpacking >>>>>>>\n",
    "def add(a, b): \n",
    "    print(a + b)\n",
    "\n",
    "add(1, 2)      \n",
    "# add([1, 2])   # error \n",
    "add(*[1, 2])   # returns 3"
   ]
  },
  {
   "cell_type": "markdown",
   "id": "73101786-ef68-43db-881f-2c178a49283a",
   "metadata": {},
   "source": [
    "<h1 align=\"center\">👉 <strong>args and kwargs</strong> 👈</h1>"
   ]
  },
  {
   "cell_type": "code",
   "execution_count": 3,
   "id": "49a77b56-cf36-44d0-a072-e41b97d50b60",
   "metadata": {},
   "outputs": [
    {
     "name": "stdout",
     "output_type": "stream",
     "text": [
      "8\n",
      "0\n"
     ]
    }
   ],
   "source": [
    "def doubler(f):\n",
    "    def g(x):\n",
    "        return 2 * f(x)\n",
    "    return g\n",
    "\n",
    "def f1(x):\n",
    "     return x + 1\n",
    "    \n",
    "g = doubler(f1)\n",
    "print(g(3))          # 8 (== ( 3 + 1) * 2)\n",
    "print(g(-1))         # 0 (== (-1 + 1) * 2)"
   ]
  },
  {
   "cell_type": "code",
   "execution_count": 4,
   "id": "5885e9c3-11f7-42ed-9713-647ce5a6b6a4",
   "metadata": {},
   "outputs": [
    {
     "name": "stdout",
     "output_type": "stream",
     "text": [
      "6\n"
     ]
    }
   ],
   "source": [
    "def other_way_magic(x, y, z):\n",
    "    return x + y + z\n",
    "\n",
    "x_y_list = [1, 2]\n",
    "z_dict   = { \"z\" : 3 }\n",
    "print(other_way_magic(*x_y_list, **z_dict))"
   ]
  },
  {
   "cell_type": "markdown",
   "id": "863f0d36",
   "metadata": {},
   "source": [
    "<h1 align=\"center\">👉 <strong>webbrowser</strong> 👈</h1>\n",
    "\n",
    "> ### **😯 to open any site**"
   ]
  },
  {
   "cell_type": "code",
   "execution_count": 5,
   "id": "f2032c30",
   "metadata": {},
   "outputs": [
    {
     "data": {
      "text/plain": [
       "True"
      ]
     },
     "execution_count": 5,
     "metadata": {},
     "output_type": "execute_result"
    }
   ],
   "source": [
    "import webbrowser as w\n",
    "w.open('www.fb.com')"
   ]
  },
  {
   "cell_type": "code",
   "execution_count": 8,
   "id": "116f66c8",
   "metadata": {},
   "outputs": [
    {
     "data": {
      "text/plain": [
       "True"
      ]
     },
     "execution_count": 8,
     "metadata": {},
     "output_type": "execute_result"
    }
   ],
   "source": [
    "w.open('https://github.com/cs109/2014_data/blob/master/countries.csv')"
   ]
  },
  {
   "cell_type": "code",
   "execution_count": 7,
   "id": "779dc96b",
   "metadata": {},
   "outputs": [
    {
     "name": "stdout",
     "output_type": "stream",
     "text": [
      "(195, 1)\n"
     ]
    }
   ],
   "source": [
    "from pandas import read_csv\n",
    "\n",
    "url  = \"https://raw.githubusercontent.com/cs109/2014_data/refs/heads/master/countries.csv\"\n",
    "data = read_csv(url, names=[2])\n",
    "print(data.shape)"
   ]
  },
  {
   "cell_type": "markdown",
   "id": "5b9d3034",
   "metadata": {},
   "source": [
    "<h1 align=\"center\">👉 <strong>glob , glob1</strong> 👈</h1>\n",
    "\n",
    "> #### glob:\n",
    "* search inside folder \"dir\"\n",
    "* glob(pathname= r\"dir.extension\")\n",
    "> #### glob1:\n",
    "* Come in name only \n",
    "* glob1(\"dir\",\"extension\")"
   ]
  },
  {
   "cell_type": "code",
   "execution_count": null,
   "id": "2f45b0a4",
   "metadata": {},
   "outputs": [
    {
     "name": "stdout",
     "output_type": "stream",
     "text": [
      "['../../numpy/📂 1-basics\\\\00-Standard NumPy Data Types Overview.ipynb', '../../numpy/📂 1-basics\\\\01-numpy_arrays.ipynb', '../../numpy/📂 1-basics\\\\02-numpy_array_attributes.ipynb', '../../numpy/📂 1-basics\\\\03-important methods.ipynb', '../../numpy/📂 1-basics\\\\04-random.ipynb']\n"
     ]
    }
   ],
   "source": [
    "import glob as gb\n",
    "a = gb.glob(pathname= \"../../numpy/📂 1-basics/*.ipynb\")\n",
    "print(a)"
   ]
  },
  {
   "cell_type": "code",
   "execution_count": 4,
   "id": "4d011a36",
   "metadata": {},
   "outputs": [
    {
     "name": "stdout",
     "output_type": "stream",
     "text": [
      "['Python Notes.pdf', 'Python Revision.pdf']\n"
     ]
    }
   ],
   "source": [
    "b = gb.glob1('../python books' , '*.pdf*')\n",
    "print(b)"
   ]
  },
  {
   "cell_type": "markdown",
   "id": "5b64fa4d",
   "metadata": {},
   "source": [
    "<h1 align=\"center\">👉 <strong>datetime</strong> 👈</h1>"
   ]
  },
  {
   "cell_type": "markdown",
   "id": "dea668e0",
   "metadata": {},
   "source": [
    "<div style=\"background-color:rgb(0, 177, 201) ; color: #ffffff; width: 100%; height: 50px; text-align: center; font-weight: bold; line-height: 50px; margin: 10px 0; font-size: 24px;\">\n",
    "date\n",
    "</div>\n",
    "\n",
    "> ### 👉 numbers to date"
   ]
  },
  {
   "cell_type": "code",
   "execution_count": 9,
   "id": "bf3512f9",
   "metadata": {},
   "outputs": [
    {
     "name": "stdout",
     "output_type": "stream",
     "text": [
      "1982-02-02\n"
     ]
    }
   ],
   "source": [
    "from datetime import date\n",
    "\n",
    "a = date(1982, 2, 2)\n",
    "print(a)"
   ]
  },
  {
   "cell_type": "markdown",
   "id": "a80ed11f",
   "metadata": {},
   "source": [
    "<div style=\"background-color:rgb(0, 177, 201) ; color: #ffffff; width: 100%; height: 50px; text-align: center; font-weight: bold; line-height: 50px; margin: 10px 0; font-size: 24px;\">\n",
    "today\n",
    "</div>\n",
    "\n",
    "> ### 👉 Show the date today"
   ]
  },
  {
   "cell_type": "code",
   "execution_count": 10,
   "id": "9d2185bb",
   "metadata": {},
   "outputs": [
    {
     "name": "stdout",
     "output_type": "stream",
     "text": [
      "2025-02-20\n"
     ]
    }
   ],
   "source": [
    "now = date.today()\n",
    "print(now)"
   ]
  },
  {
   "cell_type": "markdown",
   "id": "7a033b8d",
   "metadata": {},
   "source": [
    "> ### 👉 To calculate the number of days from a given date to today"
   ]
  },
  {
   "cell_type": "code",
   "execution_count": 11,
   "id": "65eed367",
   "metadata": {},
   "outputs": [
    {
     "name": "stdout",
     "output_type": "stream",
     "text": [
      "15724 days, 0:00:00\n"
     ]
    }
   ],
   "source": [
    "now = date.today()\n",
    "a = date(1982, 2, 2)\n",
    "z = now-a\n",
    "print(z)"
   ]
  },
  {
   "cell_type": "markdown",
   "id": "ef179cd9",
   "metadata": {},
   "source": [
    "> ### 👉 To calculate the number of days from a given date to given date"
   ]
  },
  {
   "cell_type": "code",
   "execution_count": 12,
   "id": "b9e8e554",
   "metadata": {},
   "outputs": [
    {
     "name": "stdout",
     "output_type": "stream",
     "text": [
      "10633 days, 0:00:00\n"
     ]
    }
   ],
   "source": [
    "now = date.today()\n",
    "a   = date(1982, 2, 2)\n",
    "b   = date(2011, 3, 15)\n",
    "z   = b-a\n",
    "\n",
    "print(z)"
   ]
  },
  {
   "cell_type": "markdown",
   "id": "f9891376",
   "metadata": {},
   "source": [
    "<div style=\"background-color:rgb(0, 177, 201) ; color: #ffffff; width: 100%; height: 50px; text-align: center; font-weight: bold; line-height: 50px; margin: 10px 0; font-size: 24px;\">\n",
    "datetime\n",
    "</div>"
   ]
  },
  {
   "cell_type": "code",
   "execution_count": 13,
   "id": "80d147ac",
   "metadata": {},
   "outputs": [
    {
     "name": "stdout",
     "output_type": "stream",
     "text": [
      "2011-03-15 13:15:09\n",
      "1982-02-02 18:43:12\n",
      "10632 days, 18:31:57\n"
     ]
    }
   ],
   "source": [
    "from datetime import datetime\n",
    "\n",
    "a = datetime(year=2011, month=3, day=15, hour=13, minute= 15, second= 9)\n",
    "b = datetime(year=1982, month=2, day=2 , hour=18, minute= 43, second= 12)\n",
    "print(a)\n",
    "print(b)\n",
    "print(a-b)"
   ]
  },
  {
   "cell_type": "markdown",
   "id": "5b7a4072",
   "metadata": {},
   "source": [
    "<div style=\"background-color:rgb(0, 177, 201) ; color: #ffffff; width: 100%; height: 50px; text-align: center; font-weight: bold; line-height: 50px; margin: 10px 0; font-size: 24px;\">\n",
    "now.strftime\n",
    "</div>"
   ]
  },
  {
   "cell_type": "code",
   "execution_count": 14,
   "id": "2081e77e",
   "metadata": {},
   "outputs": [],
   "source": [
    "# 03-07-24  Wednesday Wed July Jul\n",
    "# %d-%m-%y  %A        %a  %B   %b"
   ]
  },
  {
   "cell_type": "code",
   "execution_count": 15,
   "id": "e9c9b713",
   "metadata": {},
   "outputs": [
    {
     "name": "stdout",
     "output_type": "stream",
     "text": [
      "02-20-25. 20 Feb 2025 is a Thursday on the 20 day of February.\n"
     ]
    }
   ],
   "source": [
    "now = date.today()\n",
    "a = f\"{now.strftime('%m-%d-%y')}. {now.strftime('%d %b %Y')} is a {now.strftime('%A')} on the {now.strftime('%d')} day of {now.strftime('%B')}.\"\n",
    "print(a)"
   ]
  },
  {
   "cell_type": "markdown",
   "id": "2f26a2d8",
   "metadata": {},
   "source": [
    "<div style=\"background-color:rgb(0, 177, 201) ; color: #ffffff; width: 100%; height: 50px; text-align: center; font-weight: bold; line-height: 50px; margin: 10px 0; font-size: 24px;\">\n",
    "time\n",
    "</div>"
   ]
  },
  {
   "cell_type": "code",
   "execution_count": 16,
   "id": "c2c0dc0a",
   "metadata": {},
   "outputs": [
    {
     "name": "stdout",
     "output_type": "stream",
     "text": [
      "time.struct_time(tm_year=2025, tm_mon=2, tm_mday=20, tm_hour=22, tm_min=5, tm_sec=32, tm_wday=3, tm_yday=51, tm_isdst=0)\n"
     ]
    }
   ],
   "source": [
    "import time\n",
    "\n",
    "t = time.gmtime()\n",
    "print(t)\n",
    "\n",
    "# tm_wday \"week day\" >> monday Tuesday Wednesday Thursday Friday Saturday Sunday.\n",
    "#                         0      1        2         3       4      5       6"
   ]
  },
  {
   "cell_type": "code",
   "execution_count": 17,
   "id": "77b891f8",
   "metadata": {},
   "outputs": [
    {
     "name": "stdout",
     "output_type": "stream",
     "text": [
      "start\n",
      "finish\n"
     ]
    }
   ],
   "source": [
    "# waiting function >>\n",
    "\n",
    "def wait(x):\n",
    "    t0 = time.time()\n",
    "    while time.time() - t0 < x:\n",
    "        time.sleep(1)\n",
    "    return x\n",
    "\n",
    "print('start')\n",
    "wait(3)\n",
    "print('finish')"
   ]
  }
 ],
 "metadata": {
  "kernelspec": {
   "display_name": "base",
   "language": "python",
   "name": "python3"
  },
  "language_info": {
   "codemirror_mode": {
    "name": "ipython",
    "version": 3
   },
   "file_extension": ".py",
   "mimetype": "text/x-python",
   "name": "python",
   "nbconvert_exporter": "python",
   "pygments_lexer": "ipython3",
   "version": "3.12.3"
  }
 },
 "nbformat": 4,
 "nbformat_minor": 5
}
